{
 "cells": [
  {
   "cell_type": "markdown",
   "metadata": {
    "collapsed": true
   },
   "source": [
    "## River Crossing\n",
    "### Introduction\n",
    "We looked at the [Wolf, goat and cabbage problem](https://en.wikipedia.org/wiki/Wolf,_goat_and_cabbage_problem) river crossing problem in the unit material. This problem is very simple to solve by hand, and the solution path is not very long, so for this activity we will use another famous river crossing puzzle.\n",
    "\n",
    "The [missionaries and cannibals](https://en.wikipedia.org/wiki/Missionaries_and_cannibals_problem) is another toy river crossing problem, and is well-known in the AI literature because it was famously used by [Saul Amarel (1968)](https://web.archive.org/web/20080308224227/http://www.cc.gatech.edu/~jimmyd/summaries/amarel1968-1.html) as an example of problem representation in AI. Versions of the game are known to be at least [1000 years old](https://en.wikipedia.org/wiki/Missionaries_and_cannibals_problem#History). The problem is also subject of Exercise 3.9 in Russell & Norvig (2016, 3rd ed.) where it is stated as follows (p. 115).\n",
    "\n",
    "> \"Three missionaries and three cannibals are on one side of a river, along with a boat that can hold one or two people. Find a way to get everyone to the other side without ever leaving a group of missionaries in one place outnumbered by the cannibals in that place.\"\n",
    "\n",
    "#### Note On Problematic Theme\n",
    "Before we move on, an important note. In the modern age, the theme of this problem is problematic. The concept inescapably evokes images of colonialism, and was conceived in a time when sadly it was not uncommon to make associations between Black people and “cannibals”. As we said in the unit material, these problems are often repeated with different themes but the same underlying rules. As it happens, this problem was previously more commonly known as the *“jealous husbands”* problem – the puzzle states that no woman can be left unsupervised without her husband also present. For hopefully obvious reasons, I do not find this much of an improvement. \n",
    "\n",
    "The extremely short history of AI is dominated by white male voices, and still is today. We will revisit this topic in week 8 when we talk about AI ethics, because as AI continues to spread at a rapid pace this is having a demonstrable impact on people's lives.\n",
    "\n",
    "Today this puzzle variant is called “missionaries and cannibals” or “jealous husbands” in the AI textbooks; I hope in a number of years we'll have moved beyond these themes entirely. I think it is completely possible (and reasonable) to come up with toy puzzles that feature no element of inequality or violence at all.\n",
    "\n",
    "For this activity we will stay in line with the textbook and use this common theme, but if you decide to swap out the “missionaries” and the “cannibals” for something else, or even just use abstract labels, then it will not affect the lesson.\n",
    "\n",
    "#### Before You Start\n",
    "If you have not already, then take a moment to try to solve this puzzle yourself before we move onto the search based solution.\n",
    "\n",
    "### Search Based Solution\n",
    "As you saw in the Tower of Hanoi example, it is possible to solve this kind of problem through uninformed search. The following diagram shows the complete search space of the missionaries and cannibals problem. The initial state is shown on the left and the goal state is all the way to the right. Missionaries are represented by black triangles and cannibals by red circles. Arrows represent state transitions and are labelled with actions, e.g., 2c represents the action of two cannibals crossing the river.\n",
    "\n",
    "<br><br>\n",
    "<center>\n",
    "<figure>\n",
    "<img src=\"resources/mc-search-space.png\" width=600>\n",
    "<figcaption>The complete search space of the missionaries and cannibals problem. Credit: <a href=http://www.aiai.ed.ac.uk/~gwickler/missionaries.html>Gerhard Wickler</a></figcaption>\n",
    "</figure>\n",
    "</center>\n",
    "<br><br>\n",
    "\n",
    "### Your Task\n",
    "Your task is to write a Python program that solves the missionaries and cannibals problem using **breadth-first search**. The pseudo-code from Russel and Norvig (p. 82) is repeated again below.\n",
    "\n",
    "<img src=\"resources/Breadth_first_search.png\" width=60%>\n",
    "\n",
    "Unlike the Towers of Hanoi puzzle, in this task you will have to write all of the supporting code from scratch, with some suggestions. You may wish to use the accompanying \"Infrastructure for search algorithms\" shown in Section 3.3.1 of the same book (see the unit reading list).\n",
    "\n",
    "Specifically, you may define a `Node` class with attributes\n",
    " * `state`: the state in the state space to which the node corresponds;\n",
    " * `parent` (optional): the node in the search tree that generated this node;\n",
    " * `action` (optional): the action that was applied to the parent to generate the node;\n",
    " \n",
    "and methods\n",
    "\n",
    " * `is_goal_state()`: check whether the Node is the goal state;\n",
    " * `get_child_node()`: given an action, return the resulting child state;\n",
    " * `is_valid_state()`: would the state result in missionaries getting eaten?\n",
    " \n",
    "Once you have a functioning `Node` class you need to come up with data structures for your `frontier` and your set of  `explored` nodes. \n",
    "\n",
    "The next choices you have to make is how to represent states and actions. You may follow Saul Amarel's approach of  representing the current state by a simple vector $<a,b,c>$. The vector's elements $a,b,$ and $c$ represent the number of missionaries on the wrong side, the number of cannibals on the wrong side, and the number of boats on the wrong side, respectively. Since all missionaries, all cannibals, and the boat start on the wrong side, the vector is initialised to $<3,3,1>$. Actions are represented using vector subtraction/addition to manipulate the state vector. For instance, if one cannibal crossed the river, the vector $<0,1,1>$ would be subtracted from the state to yield $<3,2,0>$.\n",
    "\n",
    "You could also use a single Python tuple to represent the state, at the cost of having to more manually implement the state manipulations.\n",
    "\n",
    "So you can (but do not have to) use the following structure and define two classes `Node` and `Game`:"
   ]
  },
  {
   "cell_type": "code",
   "execution_count": 1,
   "metadata": {
    "collapsed": true
   },
   "outputs": [],
   "source": [
    "# I recommend you to start coding in another cell below and to keep this cell as a reference.\n",
    "# That way you can incrementally build --> debug --> build --> debug --> ... your classes  \n",
    "# instead of trying to do it all at once.\n",
    "\n",
    "# class Node:\n",
    "#     def __init__(self, m_wrong_side, c_wrong_side, boat_wrong_side):\n",
    "#         self.state = ...\n",
    "    \n",
    "#     def is_goal_state(self):\n",
    "#         ...\n",
    "\n",
    "#     def get_child_node(self, action):\n",
    "#         ...\n",
    "\n",
    "#     ...\n",
    "\n",
    "        \n",
    "# class Game:\n",
    "#     def __init__(self):\n",
    "#         self.initial_node = Node(m_wrong_side=3, c_wrong_side=3, boat_wrong_side=1)\n",
    "#         ...\n",
    "    \n",
    "#     def breadth_first_search(self):\n",
    "#         ..."
   ]
  },
  {
   "cell_type": "code",
   "execution_count": 2,
   "metadata": {
    "collapsed": true
   },
   "outputs": [],
   "source": [
    "### Your code here!\n",
    "# ...\n",
    "\n",
    "import numpy as np\n",
    "\n",
    "class Node:\n",
    "    def __init__(self, m_wrong_side, c_wrong_side, boat_wrong_side, parent=None, action=None):\n",
    "        self.state = np.array([m_wrong_side, c_wrong_side, boat_wrong_side])\n",
    "        self.parent = parent\n",
    "        self.action = action\n",
    "    \n",
    "    def is_goal_state(self):\n",
    "        return (np.array_equal(np.array([0, 0, 0]), self.state))\n",
    "\n",
    "    def get_child_node(self, action):\n",
    "        if self.state[2] == 0:\n",
    "            child_state = self.state + action\n",
    "        elif self.state[2] == 1:\n",
    "            child_state = self.state - action\n",
    "        return (Node(m_wrong_side=child_state[0], c_wrong_side=child_state[1], boat_wrong_side=child_state[2], parent= self.state, action = action))\n",
    "\n",
    "    def is_valid_state(self):\n",
    "        valid_right_side = ((3 - self.state[0]) >= (3 - self.state[1])) or (self.state[0] == 3)\n",
    "        valid_wrong_side = (self.state[0] >= self.state[1]) or (self.state[0] == 0)\n",
    "        valid = valid_right_side and valid_wrong_side\n",
    "        return valid\n",
    "    \n",
    "    def get_possible_actions(self):\n",
    "        actions = []\n",
    "        \n",
    "\n",
    "\n",
    "    \n",
    "class Game:\n",
    "    def __init__(self):\n",
    "        self.initial_node = Node(m_wrong_side=3, c_wrong_side=3, boat_wrong_side=1)\n",
    "    \n",
    "    def breadth_first_search(self):\n",
    "        frontier = [self.initial_node]\n",
    "        explored = []\n",
    "        current_state = frontier.pop()\n",
    "        while not current_state.is_goal_state():\n",
    "            explored.append(current_state)\n",
    "            return None\n",
    "           \n",
    "            \n",
    "\n",
    "        \n",
    "\n"
   ]
  },
  {
   "cell_type": "markdown",
   "metadata": {},
   "source": [
    "If you use the provided template you could then try to repduce the following printed output."
   ]
  },
  {
   "cell_type": "code",
   "execution_count": 3,
   "metadata": {},
   "outputs": [
    {
     "ename": "AttributeError",
     "evalue": "'Game' object has no attribute 'state'",
     "output_type": "error",
     "traceback": [
      "\u001b[1;31m---------------------------------------------------------------------------\u001b[0m",
      "\u001b[1;31mAttributeError\u001b[0m                            Traceback (most recent call last)",
      "Cell \u001b[1;32mIn[3], line 2\u001b[0m\n\u001b[0;32m      1\u001b[0m g \u001b[38;5;241m=\u001b[39m Game()\n\u001b[1;32m----> 2\u001b[0m goal_node \u001b[38;5;241m=\u001b[39m \u001b[43mg\u001b[49m\u001b[38;5;241;43m.\u001b[39;49m\u001b[43mbreadth_first_search\u001b[49m\u001b[43m(\u001b[49m\u001b[43m)\u001b[49m\n\u001b[0;32m      3\u001b[0m \u001b[38;5;28mprint\u001b[39m(\u001b[38;5;124m\"\u001b[39m\u001b[38;5;124mThe goal node is\u001b[39m\u001b[38;5;124m\"\u001b[39m, goal_node)\n",
      "Cell \u001b[1;32mIn[2], line 39\u001b[0m, in \u001b[0;36mGame.breadth_first_search\u001b[1;34m(self)\u001b[0m\n\u001b[0;32m     38\u001b[0m \u001b[38;5;28;01mdef\u001b[39;00m \u001b[38;5;21mbreadth_first_search\u001b[39m(\u001b[38;5;28mself\u001b[39m):\n\u001b[1;32m---> 39\u001b[0m     frontier \u001b[38;5;241m=\u001b[39m [\u001b[38;5;28;43mself\u001b[39;49m\u001b[38;5;241;43m.\u001b[39;49m\u001b[43mstate\u001b[49m]\n",
      "\u001b[1;31mAttributeError\u001b[0m: 'Game' object has no attribute 'state'"
     ]
    }
   ],
   "source": [
    "g = Game()\n",
    "goal_node = g.breadth_first_search()\n",
    "print(\"The goal node is\", goal_node)"
   ]
  },
  {
   "cell_type": "markdown",
   "metadata": {},
   "source": [
    "### Solution\n",
    "The solution to this exercise will be made available through the course page once you submit your version. If you are completely stuck you can submit the file unfinished to see the solution – the submission is not graded, but you should try to get your version working.\n",
    "\n",
    "### Advanced Extension\n",
    "In the Tower of Hanoi example you implemented *depth first* search, which is similar to breadth first search. Thinking about the trade-offs between each algorithm, do you think depth first search would be effective for the Missionaries and Cannibals problem?\n",
    "\n",
    "There is another technique called *iterative deepening* which combines the benefits of both algorithms. The basic idea is to repeatedly try a limited version of depth first *tree search* to ever increasing depths. First of all we try a depth first search limited to depth 0: this will simply be the root note. Then we try depth first search to a limit of 1, which is just the children of the root node. Then a limit of 2, and so on. We stop when we find the goal, or if we do not find any nodes with the given depth (in other words we have explored the entire graph). Because we are using the *tree* version of the algorithm (even on a graph problem), we do not need to store the `explored` set, and the memory requirements are far less.\n",
    "\n",
    "You can read more about this technique in section 3.4.5 of Russell and Norvig – the section is on page 88 but I would recommend you start reading from page 86 which explains the limitations of depth-first search, the motivation for depth-limited search, and the natural conclusion: iterative deepening. \n",
    "\n",
    "This technique provides a excellent trade-off in terms of memory and time efficiency. It may seem wasteful to generate the early states multiple times, but there are not many states in the early part of the search tree. This means that iterative deepening is roughly the same as breadth first search for total computational time and has much better memory performance.\n",
    "\n",
    "Here is the pseudocode from Russell and Norvig:\n",
    "\n",
    "<br>\n",
    "<center>\n",
    "<img src=\"resources/iterative-deepening.png\" width=60%>\n",
    "</center>\n",
    "\n",
    "**Task:** Try writing an iterative deepening solution to either the Missionaries and Cannibals problem or the Tower of Hanoi problem. Or, you could try another search technique from the textbook. Share your results on the forum!"
   ]
  }
 ],
 "metadata": {
  "kernelspec": {
   "display_name": "Python 3.6",
   "language": "python",
   "name": "python3"
  },
  "language_info": {
   "codemirror_mode": {
    "name": "ipython",
    "version": 3
   },
   "file_extension": ".py",
   "mimetype": "text/x-python",
   "name": "python",
   "nbconvert_exporter": "python",
   "pygments_lexer": "ipython3",
   "version": "3.12.3"
  }
 },
 "nbformat": 4,
 "nbformat_minor": 2
}
